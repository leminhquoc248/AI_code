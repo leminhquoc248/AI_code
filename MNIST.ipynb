{
  "cells": [
    {
      "cell_type": "markdown",
      "metadata": {
        "id": "view-in-github",
        "colab_type": "text"
      },
      "source": [
        "<a href=\"https://colab.research.google.com/github/leminhquoc248/AI_code/blob/main/MNIST.ipynb\" target=\"_parent\"><img src=\"https://colab.research.google.com/assets/colab-badge.svg\" alt=\"Open In Colab\"/></a>"
      ]
    },
    {
      "cell_type": "code",
      "execution_count": null,
      "metadata": {
        "id": "NVV7DaYf0pMP"
      },
      "outputs": [],
      "source": [
        "# bài minist\n",
        "from keras.datasets import mnist\n",
        "import matplotlib.pyplot as plt \n",
        "(x_train, y_train),(x_test,y_test) = mnist.load_data()"
      ]
    },
    {
      "cell_type": "code",
      "execution_count": null,
      "metadata": {
        "colab": {
          "base_uri": "https://localhost:8080/",
          "height": 265
        },
        "id": "kQI7J7hH0w91",
        "outputId": "987af7d9-a324-4dfe-b238-b169a0894d4c"
      },
      "outputs": [
        {
          "output_type": "display_data",
          "data": {
            "text/plain": [
              "<Figure size 432x288 with 1 Axes>"
            ],
            "image/png": "[encoded data removed]"
          },
          "metadata": {
            "needs_background": "light"
          }
        }
      ],
      "source": [
        "import matplotlib.pyplot as plt\n",
        "plt.imshow(x_train[1])\n",
        "plt.show()"
      ]
    },
    {
      "cell_type": "code",
      "execution_count": null,
      "metadata": {
        "colab": {
          "base_uri": "https://localhost:8080/",
          "height": 268
        },
        "id": "6mjwI0Te0-oo",
        "outputId": "0d45920c-645c-4eff-e19f-2d7c3f9997c4"
      },
      "outputs": [
        {
          "output_type": "display_data",
          "data": {
            "text/plain": [
              "<Figure size 432x288 with 9 Axes>"
            ],
            "image/png": "[encoded data removed]"
          },
          "metadata": {
            "needs_background": "light"
          }
        }
      ],
      "source": [
        "for i in range (9):\n",
        "  plt.subplot(330+i+1) \n",
        "  plt.imshow(x_train[i],cmap=plt.get_cmap('gray'))\n",
        "plt.show()"
      ]
    },
    {
      "cell_type": "code",
      "execution_count": null,
      "metadata": {
        "id": "KDowFu_C1G7C"
      },
      "outputs": [],
      "source": [
        "from keras.utils import np_utils\n",
        "x_train=x_train.reshape(60000,784)\n",
        "x_test=x_test.reshape(10000,784)\n",
        "x_train=x_train.astype('float32')\n",
        "x_test=x_test.astype('float32')\n",
        "x_train/=255\n",
        "x_test/=255\n",
        "y_train=np_utils.to_categorical(y_train,10)\n",
        "y_test=np_utils.to_categorical(y_test,10)"
      ]
    },
    {
      "cell_type": "code",
      "execution_count": null,
      "metadata": {
        "colab": {
          "base_uri": "https://localhost:8080/"
        },
        "id": "2R1HtsR91KLh",
        "outputId": "09aab37f-9bff-4799-8c08-e8eb0aaac9b4"
      },
      "outputs": [
        {
          "output_type": "stream",
          "name": "stdout",
          "text": [
            "Model: \"sequential_1\"\n",
            "_________________________________________________________________\n",
            " Layer (type)                Output Shape              Param #   \n",
            "=================================================================\n",
            " dense_3 (Dense)             (None, 512)               401920    \n",
            "                                                                 \n",
            " dropout_2 (Dropout)         (None, 512)               0         \n",
            "                                                                 \n",
            " dense_4 (Dense)             (None, 512)               262656    \n",
            "                                                                 \n",
            " dropout_3 (Dropout)         (None, 512)               0         \n",
            "                                                                 \n",
            " dense_5 (Dense)             (None, 10)                5130      \n",
            "                                                                 \n",
            "=================================================================\n",
            "Total params: 669,706\n",
            "Trainable params: 669,706\n",
            "Non-trainable params: 0\n",
            "_________________________________________________________________\n"
          ]
        }
      ],
      "source": [
        "from keras.layers import Dense,Activation,Dropout\n",
        "from keras.datasets import boston_housing\n",
        "from keras.models import Sequential\n",
        "from keras.layers import Dense\n",
        "from tensorflow.keras.optimizers import RMSprop\n",
        "from keras.callbacks import EarlyStopping\n",
        "from sklearn.preprocessing import scale,StandardScaler\n",
        "model=Sequential()\n",
        "model.add(Dense(512,activation='relu',input_shape=(784,)))\n",
        "model.add(Dropout(0.1))\n",
        "model.add(Dense(512,activation='relu'))\n",
        "model.add(Dropout(0.1))\n",
        "model.add(Dense(10,activation='softmax'))\n",
        "model.summary()"
      ]
    },
    {
      "cell_type": "code",
      "execution_count": null,
      "metadata": {
        "id": "qhIzHY5r1Tw1"
      },
      "outputs": [],
      "source": [
        "model.compile(loss='categorical_crossentropy',optimizer=RMSprop(),metrics=['accuracy'])"
      ]
    },
    {
      "cell_type": "code",
      "execution_count": null,
      "metadata": {
        "colab": {
          "base_uri": "https://localhost:8080/"
        },
        "id": "MrQL6rtX1j_f",
        "outputId": "230585f9-5e85-4469-9853-f53c675889b5"
      },
      "outputs": [
        {
          "output_type": "stream",
          "name": "stdout",
          "text": [
            "Epoch 1/500\n",
            "375/375 [==============================] - 12s 30ms/step - loss: 0.2621 - accuracy: 0.9190 - val_loss: 0.1205 - val_accuracy: 0.9633\n",
            "Epoch 2/500\n",
            "375/375 [==============================] - 8s 21ms/step - loss: 0.1016 - accuracy: 0.9684 - val_loss: 0.1099 - val_accuracy: 0.9672\n",
            "Epoch 3/500\n",
            "375/375 [==============================] - 8s 21ms/step - loss: 0.0672 - accuracy: 0.9793 - val_loss: 0.1047 - val_accuracy: 0.9722\n",
            "Epoch 4/500\n",
            "375/375 [==============================] - 8s 21ms/step - loss: 0.0519 - accuracy: 0.9845 - val_loss: 0.0897 - val_accuracy: 0.9764\n",
            "Epoch 5/500\n",
            "375/375 [==============================] - 8s 21ms/step - loss: 0.0399 - accuracy: 0.9874 - val_loss: 0.1017 - val_accuracy: 0.9759\n",
            "Epoch 6/500\n",
            "375/375 [==============================] - 8s 22ms/step - loss: 0.0318 - accuracy: 0.9903 - val_loss: 0.0981 - val_accuracy: 0.9787\n",
            "Epoch 7/500\n",
            "375/375 [==============================] - 8s 21ms/step - loss: 0.0265 - accuracy: 0.9917 - val_loss: 0.0993 - val_accuracy: 0.9787\n",
            "Epoch 8/500\n",
            "375/375 [==============================] - 8s 21ms/step - loss: 0.0228 - accuracy: 0.9926 - val_loss: 0.0913 - val_accuracy: 0.9808\n",
            "Epoch 9/500\n",
            "375/375 [==============================] - 8s 21ms/step - loss: 0.0206 - accuracy: 0.9937 - val_loss: 0.1023 - val_accuracy: 0.9793\n",
            "Epoch 10/500\n",
            "375/375 [==============================] - 8s 21ms/step - loss: 0.0177 - accuracy: 0.9942 - val_loss: 0.1249 - val_accuracy: 0.9772\n",
            "Epoch 11/500\n",
            "375/375 [==============================] - 9s 24ms/step - loss: 0.0153 - accuracy: 0.9948 - val_loss: 0.1589 - val_accuracy: 0.9766\n",
            "Epoch 12/500\n",
            "375/375 [==============================] - 8s 21ms/step - loss: 0.0148 - accuracy: 0.9952 - val_loss: 0.1224 - val_accuracy: 0.9810\n",
            "Epoch 13/500\n",
            "375/375 [==============================] - 8s 21ms/step - loss: 0.0127 - accuracy: 0.9964 - val_loss: 0.1497 - val_accuracy: 0.9788\n",
            "Epoch 14/500\n",
            "375/375 [==============================] - 8s 21ms/step - loss: 0.0120 - accuracy: 0.9961 - val_loss: 0.1444 - val_accuracy: 0.9797\n",
            "Epoch 15/500\n",
            "375/375 [==============================] - 8s 21ms/step - loss: 0.0105 - accuracy: 0.9966 - val_loss: 0.1525 - val_accuracy: 0.9794\n",
            "Epoch 16/500\n",
            "375/375 [==============================] - 8s 21ms/step - loss: 0.0103 - accuracy: 0.9967 - val_loss: 0.1771 - val_accuracy: 0.9774\n",
            "Epoch 17/500\n",
            "375/375 [==============================] - 8s 21ms/step - loss: 0.0097 - accuracy: 0.9972 - val_loss: 0.1586 - val_accuracy: 0.9811\n",
            "Epoch 18/500\n",
            "375/375 [==============================] - 8s 21ms/step - loss: 0.0100 - accuracy: 0.9975 - val_loss: 0.1705 - val_accuracy: 0.9787\n",
            "Epoch 19/500\n",
            "375/375 [==============================] - 8s 21ms/step - loss: 0.0106 - accuracy: 0.9974 - val_loss: 0.1817 - val_accuracy: 0.9778\n",
            "Epoch 20/500\n",
            "375/375 [==============================] - 8s 21ms/step - loss: 0.0099 - accuracy: 0.9973 - val_loss: 0.1723 - val_accuracy: 0.9822\n",
            "Epoch 21/500\n",
            "375/375 [==============================] - 8s 20ms/step - loss: 0.0088 - accuracy: 0.9977 - val_loss: 0.1967 - val_accuracy: 0.9791\n",
            "Epoch 22/500\n",
            "375/375 [==============================] - 8s 21ms/step - loss: 0.0092 - accuracy: 0.9974 - val_loss: 0.1732 - val_accuracy: 0.9815\n",
            "Epoch 23/500\n",
            "375/375 [==============================] - 8s 21ms/step - loss: 0.0084 - accuracy: 0.9978 - val_loss: 0.1995 - val_accuracy: 0.9803\n",
            "Epoch 24/500\n",
            "375/375 [==============================] - 8s 21ms/step - loss: 0.0093 - accuracy: 0.9975 - val_loss: 0.2055 - val_accuracy: 0.9797\n",
            "Epoch 25/500\n",
            "375/375 [==============================] - 8s 20ms/step - loss: 0.0089 - accuracy: 0.9977 - val_loss: 0.2147 - val_accuracy: 0.9794\n",
            "Epoch 26/500\n",
            "375/375 [==============================] - 8s 20ms/step - loss: 0.0065 - accuracy: 0.9983 - val_loss: 0.2017 - val_accuracy: 0.9808\n",
            "Epoch 27/500\n",
            "375/375 [==============================] - 8s 21ms/step - loss: 0.0078 - accuracy: 0.9980 - val_loss: 0.2000 - val_accuracy: 0.9802\n",
            "Epoch 28/500\n",
            "375/375 [==============================] - 8s 21ms/step - loss: 0.0072 - accuracy: 0.9984 - val_loss: 0.2192 - val_accuracy: 0.9792\n",
            "Epoch 29/500\n",
            "375/375 [==============================] - 8s 21ms/step - loss: 0.0079 - accuracy: 0.9982 - val_loss: 0.2231 - val_accuracy: 0.9803\n",
            "Epoch 30/500\n",
            "375/375 [==============================] - 8s 21ms/step - loss: 0.0067 - accuracy: 0.9982 - val_loss: 0.2157 - val_accuracy: 0.9814\n",
            "Epoch 31/500\n",
            "375/375 [==============================] - 8s 21ms/step - loss: 0.0073 - accuracy: 0.9984 - val_loss: 0.2108 - val_accuracy: 0.9820\n",
            "Epoch 32/500\n",
            "375/375 [==============================] - 8s 21ms/step - loss: 0.0062 - accuracy: 0.9984 - val_loss: 0.2238 - val_accuracy: 0.9811\n",
            "Epoch 33/500\n",
            "375/375 [==============================] - 8s 21ms/step - loss: 0.0056 - accuracy: 0.9986 - val_loss: 0.2293 - val_accuracy: 0.9809\n",
            "Epoch 34/500\n",
            "375/375 [==============================] - 8s 20ms/step - loss: 0.0072 - accuracy: 0.9985 - val_loss: 0.2402 - val_accuracy: 0.9813\n"
          ]
        }
      ],
      "source": [
        "history=model.fit(x_train,y_train,batch_size=128,epochs=500,verbose=1,\n",
        "                  validation_split=0.2,callbacks=[EarlyStopping(monitor='val_loss',patience=30)])"
      ]
    },
    {
      "cell_type": "code",
      "execution_count": null,
      "metadata": {
        "colab": {
          "base_uri": "https://localhost:8080/"
        },
        "id": "5Dw4ApIF1ruN",
        "outputId": "cc8b32d2-d487-4284-cbf7-7ec4359546a5"
      },
      "outputs": [
        {
          "output_type": "stream",
          "name": "stdout",
          "text": [
            "Test_loss 0.19666247069835663\n",
            "Test accuracy 0.9815000295639038\n"
          ]
        }
      ],
      "source": [
        "score=model.evaluate(x_test,y_test,verbose=0)\n",
        "print('Test_loss',score[0])\n",
        "print('Test accuracy',score[1])"
      ]
    },
    {
      "cell_type": "code",
      "execution_count": null,
      "metadata": {
        "colab": {
          "base_uri": "https://localhost:8080/",
          "height": 295
        },
        "id": "_tEmNUbO8TAz",
        "outputId": "a6740d67-7396-4d19-a5f8-0b16c281f334"
      },
      "outputs": [
        {
          "output_type": "display_data",
          "data": {
            "text/plain": [
              "<Figure size 432x288 with 1 Axes>"
            ],
            "image/png": "[encoded data removed]"
          },
          "metadata": {
            "needs_background": "light"
          }
        }
      ],
      "source": [
        "plt.plot(history.history['accuracy'])\n",
        "plt.plot(history.history['val_accuracy'])\n",
        "plt.title('Model accuracy')\n",
        "plt.ylabel('accuracy')\n",
        "plt.xlabel('epochs')\n",
        "plt.legend(['train','validation'])\n",
        "plt.show()"
      ]
    },
    {
      "cell_type": "code",
      "execution_count": null,
      "metadata": {
        "id": "UE56taXx8paL"
      },
      "outputs": [],
      "source": [
        ""
      ]
    }
  ],
  "metadata": {
    "colab": {
      "name": "MNIST",
      "provenance": [],
      "include_colab_link": true
    },
    "kernelspec": {
      "display_name": "Python 3",
      "name": "python3"
    },
    "language_info": {
      "name": "python"
    }
  },
  "nbformat": 4,
  "nbformat_minor": 0
}