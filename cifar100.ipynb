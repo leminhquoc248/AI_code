{
  "nbformat": 4,
  "nbformat_minor": 0,
  "metadata": {
    "colab": {
      "name": "cifar100",
      "provenance": [],
      "include_colab_link": true
    },
    "kernelspec": {
      "name": "python3",
      "display_name": "Python 3"
    },
    "language_info": {
      "name": "python"
    }
  },
  "cells": [
    {
      "cell_type": "markdown",
      "metadata": {
        "id": "view-in-github",
        "colab_type": "text"
      },
      "source": [
        "<a href=\"https://colab.research.google.com/github/leminhquoc248/AI_code/blob/main/cifar100.ipynb\" target=\"_parent\"><img src=\"https://colab.research.google.com/assets/colab-badge.svg\" alt=\"Open In Colab\"/></a>"
      ]
    },
    {
      "cell_type": "code",
      "execution_count": null,
      "metadata": {
        "id": "pQJ07v1hronM"
      },
      "outputs": [],
      "source": [
        "from keras.datasets import cifar100\n",
        "import matplotlib.pyplot as plt \n",
        "(x_train, y_train),(x_test,y_test) = cifar100.load_data()"
      ]
    },
    {
      "cell_type": "code",
      "source": [
        "y_train.shape"
      ],
      "metadata": {
        "colab": {
          "base_uri": "https://localhost:8080/"
        },
        "id": "miAw-upctTNO",
        "outputId": "678d16a4-c461-4820-82b5-76404bb33b29"
      },
      "execution_count": null,
      "outputs": [
        {
          "output_type": "execute_result",
          "data": {
            "text/plain": [
              "(50000, 1)"
            ]
          },
          "metadata": {},
          "execution_count": 3
        }
      ]
    },
    {
      "cell_type": "code",
      "source": [
        "y_test.shape"
      ],
      "metadata": {
        "colab": {
          "base_uri": "https://localhost:8080/"
        },
        "id": "7Z2axquftXbO",
        "outputId": "d32649f0-d73b-4100-aae8-8c64c6dbd193"
      },
      "execution_count": null,
      "outputs": [
        {
          "output_type": "execute_result",
          "data": {
            "text/plain": [
              "(10000, 1)"
            ]
          },
          "metadata": {},
          "execution_count": 4
        }
      ]
    },
    {
      "cell_type": "code",
      "source": [
        "x_train.shape"
      ],
      "metadata": {
        "colab": {
          "base_uri": "https://localhost:8080/"
        },
        "id": "B1dBgVyMtunR",
        "outputId": "7351a4f8-2948-4ab2-d62a-4d7c7783928b"
      },
      "execution_count": null,
      "outputs": [
        {
          "output_type": "execute_result",
          "data": {
            "text/plain": [
              "(50000, 32, 32, 3)"
            ]
          },
          "metadata": {},
          "execution_count": 5
        }
      ]
    },
    {
      "cell_type": "code",
      "source": [
        "import matplotlib.pyplot as plt\n",
        "plt.imshow(x_train[2])\n",
        "plt.show()"
      ],
      "metadata": {
        "colab": {
          "base_uri": "https://localhost:8080/",
          "height": 266
        },
        "id": "2OnQIylUt0dF",
        "outputId": "be69270c-9031-4a73-8af8-f34394e21c30"
      },
      "execution_count": null,
      "outputs": [
        {
          "output_type": "display_data",
          "data": {
            "text/plain": [
              "<Figure size 432x288 with 1 Axes>"
            ],
            "image/png": "[encoded data removed]"
          },
          "metadata": {
            "needs_background": "light"
          }
        }
      ]
    },
    {
      "cell_type": "code",
      "source": [
        "from keras.utils import np_utils\n",
        "x_train=x_train.reshape(50000,3072)\n",
        "x_test=x_test.reshape(10000,3072)\n",
        "x_train=x_train.astype('float32')\n",
        "x_test=x_test.astype('float32')\n",
        "x_train/=255\n",
        "x_test/=255\n",
        "y_train=np_utils.to_categorical(y_train,100)\n",
        "y_test=np_utils.to_categorical(y_test,100)"
      ],
      "metadata": {
        "id": "9bWkCJy3Aau3"
      },
      "execution_count": null,
      "outputs": []
    },
    {
      "cell_type": "code",
      "source": [
        "from keras.layers import Dense,Activation,Dropout\n",
        "from keras.datasets import boston_housing\n",
        "from keras.models import Sequential\n",
        "from keras.layers import Dense\n",
        "from tensorflow.keras.optimizers import RMSprop\n",
        "from keras.callbacks import EarlyStopping\n",
        "from sklearn.preprocessing import scale,StandardScaler\n",
        "model=Sequential()\n",
        "model.add(Dense(512,activation='relu',input_shape=(3072,)))\n",
        "model.add(Dropout(0.1))\n",
        "model.add(Dense(512,activation='relu'))\n",
        "model.add(Dropout(0.1))\n",
        "model.add(Dense(100,activation='softmax'))\n",
        "model.summary()"
      ],
      "metadata": {
        "colab": {
          "base_uri": "https://localhost:8080/"
        },
        "id": "j2H7RjvNETOn",
        "outputId": "34409d74-ab8f-4a6f-a4b8-f037ee48011d"
      },
      "execution_count": null,
      "outputs": [
        {
          "output_type": "stream",
          "name": "stdout",
          "text": [
            "Model: \"sequential_3\"\n",
            "_________________________________________________________________\n",
            " Layer (type)                Output Shape              Param #   \n",
            "=================================================================\n",
            " dense_9 (Dense)             (None, 512)               1573376   \n",
            "                                                                 \n",
            " dropout_6 (Dropout)         (None, 512)               0         \n",
            "                                                                 \n",
            " dense_10 (Dense)            (None, 512)               262656    \n",
            "                                                                 \n",
            " dropout_7 (Dropout)         (None, 512)               0         \n",
            "                                                                 \n",
            " dense_11 (Dense)            (None, 100)               51300     \n",
            "                                                                 \n",
            "=================================================================\n",
            "Total params: 1,887,332\n",
            "Trainable params: 1,887,332\n",
            "Non-trainable params: 0\n",
            "_________________________________________________________________\n"
          ]
        }
      ]
    },
    {
      "cell_type": "code",
      "source": [
        "model.compile(loss='categorical_crossentropy',optimizer=RMSprop(),metrics=['accuracy'])"
      ],
      "metadata": {
        "id": "pxpDgOkeEdLY"
      },
      "execution_count": null,
      "outputs": []
    },
    {
      "cell_type": "code",
      "source": [
        "history=model.fit(x_train,y_train,batch_size=128,epochs=500,verbose=1,\n",
        "                  validation_split=0.2,callbacks=[EarlyStopping(monitor='val_loss',patience=20)])"
      ],
      "metadata": {
        "colab": {
          "base_uri": "https://localhost:8080/"
        },
        "id": "oJ99uLLuEeJA",
        "outputId": "36ab668f-c664-40ed-e0ca-830ff9587050"
      },
      "execution_count": null,
      "outputs": [
        {
          "output_type": "stream",
          "name": "stdout",
          "text": [
            "Epoch 1/500\n",
            "313/313 [==============================] - 12s 35ms/step - loss: 4.3104 - accuracy: 0.0526 - val_loss: 4.1489 - val_accuracy: 0.0649\n",
            "Epoch 2/500\n",
            "313/313 [==============================] - 10s 33ms/step - loss: 3.8926 - accuracy: 0.1018 - val_loss: 3.7668 - val_accuracy: 0.1281\n",
            "Epoch 3/500\n",
            "313/313 [==============================] - 10s 33ms/step - loss: 3.7515 - accuracy: 0.1246 - val_loss: 3.6865 - val_accuracy: 0.1345\n",
            "Epoch 4/500\n",
            "313/313 [==============================] - 10s 33ms/step - loss: 3.6454 - accuracy: 0.1438 - val_loss: 3.6042 - val_accuracy: 0.1557\n",
            "Epoch 5/500\n",
            "313/313 [==============================] - 11s 34ms/step - loss: 3.5720 - accuracy: 0.1595 - val_loss: 3.5869 - val_accuracy: 0.1566\n",
            "Epoch 6/500\n",
            "313/313 [==============================] - 11s 35ms/step - loss: 3.5084 - accuracy: 0.1696 - val_loss: 3.5633 - val_accuracy: 0.1698\n",
            "Epoch 7/500\n",
            "313/313 [==============================] - 11s 35ms/step - loss: 3.4527 - accuracy: 0.1796 - val_loss: 3.5408 - val_accuracy: 0.1664\n",
            "Epoch 8/500\n",
            "313/313 [==============================] - 10s 32ms/step - loss: 3.4117 - accuracy: 0.1882 - val_loss: 3.5180 - val_accuracy: 0.1727\n",
            "Epoch 9/500\n",
            "313/313 [==============================] - 10s 33ms/step - loss: 3.3766 - accuracy: 0.1942 - val_loss: 3.4611 - val_accuracy: 0.1836\n",
            "Epoch 10/500\n",
            "313/313 [==============================] - 10s 33ms/step - loss: 3.3341 - accuracy: 0.1984 - val_loss: 3.4595 - val_accuracy: 0.1834\n",
            "Epoch 11/500\n",
            "313/313 [==============================] - 10s 33ms/step - loss: 3.3125 - accuracy: 0.2049 - val_loss: 3.4930 - val_accuracy: 0.1831\n",
            "Epoch 12/500\n",
            "313/313 [==============================] - 10s 33ms/step - loss: 3.2803 - accuracy: 0.2093 - val_loss: 3.4398 - val_accuracy: 0.1957\n",
            "Epoch 13/500\n",
            "313/313 [==============================] - 10s 34ms/step - loss: 3.2606 - accuracy: 0.2135 - val_loss: 3.3882 - val_accuracy: 0.2032\n",
            "Epoch 14/500\n",
            "313/313 [==============================] - 10s 33ms/step - loss: 3.2277 - accuracy: 0.2226 - val_loss: 3.4475 - val_accuracy: 0.1897\n",
            "Epoch 15/500\n",
            "313/313 [==============================] - 10s 33ms/step - loss: 3.2245 - accuracy: 0.2208 - val_loss: 3.6090 - val_accuracy: 0.1813\n",
            "Epoch 16/500\n",
            "313/313 [==============================] - 10s 33ms/step - loss: 3.2102 - accuracy: 0.2245 - val_loss: 3.4203 - val_accuracy: 0.1939\n",
            "Epoch 17/500\n",
            "313/313 [==============================] - 10s 33ms/step - loss: 3.1956 - accuracy: 0.2247 - val_loss: 3.4217 - val_accuracy: 0.1996\n",
            "Epoch 18/500\n",
            "313/313 [==============================] - 11s 34ms/step - loss: 3.1703 - accuracy: 0.2304 - val_loss: 3.4998 - val_accuracy: 0.1934\n",
            "Epoch 19/500\n",
            "313/313 [==============================] - 10s 33ms/step - loss: 3.1567 - accuracy: 0.2344 - val_loss: 3.4979 - val_accuracy: 0.1946\n",
            "Epoch 20/500\n",
            "313/313 [==============================] - 10s 33ms/step - loss: 3.1468 - accuracy: 0.2352 - val_loss: 3.5496 - val_accuracy: 0.1848\n",
            "Epoch 21/500\n",
            "313/313 [==============================] - 10s 33ms/step - loss: 3.1326 - accuracy: 0.2384 - val_loss: 3.4178 - val_accuracy: 0.2028\n",
            "Epoch 22/500\n",
            "313/313 [==============================] - 10s 33ms/step - loss: 3.1166 - accuracy: 0.2411 - val_loss: 3.6026 - val_accuracy: 0.1743\n",
            "Epoch 23/500\n",
            "313/313 [==============================] - 10s 33ms/step - loss: 3.1199 - accuracy: 0.2435 - val_loss: 3.4310 - val_accuracy: 0.2022\n",
            "Epoch 24/500\n",
            "313/313 [==============================] - 11s 34ms/step - loss: 3.1053 - accuracy: 0.2456 - val_loss: 3.5255 - val_accuracy: 0.1848\n",
            "Epoch 25/500\n",
            "313/313 [==============================] - 11s 34ms/step - loss: 3.0923 - accuracy: 0.2444 - val_loss: 3.4291 - val_accuracy: 0.2019\n",
            "Epoch 26/500\n",
            "313/313 [==============================] - 10s 33ms/step - loss: 3.0936 - accuracy: 0.2461 - val_loss: 3.5307 - val_accuracy: 0.1926\n",
            "Epoch 27/500\n",
            "313/313 [==============================] - 10s 33ms/step - loss: 3.0789 - accuracy: 0.2529 - val_loss: 3.4175 - val_accuracy: 0.2039\n",
            "Epoch 28/500\n",
            "313/313 [==============================] - 11s 34ms/step - loss: 3.0720 - accuracy: 0.2512 - val_loss: 3.4804 - val_accuracy: 0.1941\n",
            "Epoch 29/500\n",
            "313/313 [==============================] - 10s 33ms/step - loss: 3.0752 - accuracy: 0.2503 - val_loss: 3.4853 - val_accuracy: 0.2036\n",
            "Epoch 30/500\n",
            "313/313 [==============================] - 10s 34ms/step - loss: 3.0658 - accuracy: 0.2553 - val_loss: 3.4517 - val_accuracy: 0.2040\n",
            "Epoch 31/500\n",
            "313/313 [==============================] - 11s 34ms/step - loss: 3.0579 - accuracy: 0.2549 - val_loss: 3.5464 - val_accuracy: 0.1960\n",
            "Epoch 32/500\n",
            "313/313 [==============================] - 10s 33ms/step - loss: 3.0524 - accuracy: 0.2582 - val_loss: 3.6079 - val_accuracy: 0.1856\n",
            "Epoch 33/500\n",
            "313/313 [==============================] - 10s 33ms/step - loss: 3.0454 - accuracy: 0.2580 - val_loss: 3.5558 - val_accuracy: 0.1940\n"
          ]
        }
      ]
    },
    {
      "cell_type": "code",
      "source": [
        "score=model.evaluate(x_test,y_test,verbose=0)\n",
        "print('Test_loss',score[0])\n",
        "print('Test accuracy',score[1])"
      ],
      "metadata": {
        "colab": {
          "base_uri": "https://localhost:8080/"
        },
        "id": "MjHaGvlBLEa8",
        "outputId": "754b5e12-7493-4385-b817-f166d11a764b"
      },
      "execution_count": null,
      "outputs": [
        {
          "output_type": "stream",
          "name": "stdout",
          "text": [
            "Test_loss 3.55552339553833\n",
            "Test accuracy 0.2053000032901764\n"
          ]
        }
      ]
    },
    {
      "cell_type": "code",
      "source": [
        "plt.plot(history.history['accuracy'])\n",
        "plt.plot(history.history['val_accuracy'])\n",
        "plt.title('Model accuracy')\n",
        "plt.ylabel('accuracy')\n",
        "plt.xlabel('epochs')\n",
        "plt.legend(['train','validation'])\n",
        "plt.show()"
      ],
      "metadata": {
        "colab": {
          "base_uri": "https://localhost:8080/",
          "height": 295
        },
        "id": "_zWiKuDBMLRX",
        "outputId": "0b13c269-7c87-4040-9bf4-0782701b1212"
      },
      "execution_count": null,
      "outputs": [
        {
          "output_type": "display_data",
          "data": {
            "text/plain": [
              "<Figure size 432x288 with 1 Axes>"
            ],
            "image/png": "[encoded data removed]"
          },
          "metadata": {
            "needs_background": "light"
          }
        }
      ]
    },
    {
      "cell_type": "code",
      "source": [
        ""
      ],
      "metadata": {
        "id": "RsMh5m9bMN1M"
      },
      "execution_count": null,
      "outputs": []
    }
  ]
}